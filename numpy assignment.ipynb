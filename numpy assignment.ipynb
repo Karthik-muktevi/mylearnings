{
 "cells": [
  {
   "cell_type": "code",
   "execution_count": 3,
   "id": "630530ae",
   "metadata": {},
   "outputs": [],
   "source": [
    "import numpy as np"
   ]
  },
  {
   "cell_type": "code",
   "execution_count": 6,
   "id": "cb3440e2",
   "metadata": {},
   "outputs": [],
   "source": [
    "def vandermatrix(v,N,increasing=False):\n",
    "    if increasing is False:\n",
    "        result = np.array([x**(N-1-i) for x in v for i in range(N)]).reshape(v.size,N)\n",
    "    elif increasing is True:\n",
    "        result = np.array([x**i for x in v for i in range(N)]).reshape(v.size,N)\n",
    "        \n",
    "    return result"
   ]
  },
  {
   "cell_type": "code",
   "execution_count": 7,
   "id": "914a8192",
   "metadata": {},
   "outputs": [
    {
     "data": {
      "text/plain": [
       "array([[ 1,  1,  1],\n",
       "       [ 4,  2,  1],\n",
       "       [ 9,  3,  1],\n",
       "       [16,  4,  1],\n",
       "       [25,  5,  1]])"
      ]
     },
     "execution_count": 7,
     "metadata": {},
     "output_type": "execute_result"
    }
   ],
   "source": [
    "a = np.array([1,2,3,4,5])\n",
    "vandermatrix(a,3)"
   ]
  },
  {
   "cell_type": "code",
   "execution_count": 8,
   "id": "97e7c8ac",
   "metadata": {},
   "outputs": [
    {
     "data": {
      "text/plain": [
       "array([[  1,   1,   1,   1],\n",
       "       [  1,   2,   4,   8],\n",
       "       [  1,   3,   9,  27],\n",
       "       [  1,   4,  16,  64],\n",
       "       [  1,   5,  25, 125]])"
      ]
     },
     "execution_count": 8,
     "metadata": {},
     "output_type": "execute_result"
    }
   ],
   "source": [
    "vandermatrix(a,4,True)"
   ]
  },
  {
   "cell_type": "code",
   "execution_count": 11,
   "id": "668049e8",
   "metadata": {},
   "outputs": [],
   "source": [
    "def moving_avg(array,k):\n",
    "    i=0\n",
    "    ma= []\n",
    "    while i < len(array) - k+1:\n",
    "        wa = round(np.sum(array[i:i+k])/k,2)\n",
    "        ma.append(wa)\n",
    "        i+=1\n",
    "    return ma"
   ]
  },
  {
   "cell_type": "code",
   "execution_count": 12,
   "id": "989f2ee0",
   "metadata": {},
   "outputs": [
    {
     "data": {
      "text/plain": [
       "[5.0, 4.67, 5.67, 6.67, 9.67, 28.67, 49.33, 72.67, 84.0, 93.33, 116.33]"
      ]
     },
     "execution_count": 12,
     "metadata": {},
     "output_type": "execute_result"
    }
   ],
   "source": [
    "a =[3, 5, 7, 2, 8, 10, 11, 65, 72, 81, 99, 100, 150]\n",
    "moving_avg(a,3)"
   ]
  },
  {
   "cell_type": "code",
   "execution_count": null,
   "id": "d18e143a",
   "metadata": {},
   "outputs": [],
   "source": []
  }
 ],
 "metadata": {
  "kernelspec": {
   "display_name": "Python 3",
   "language": "python",
   "name": "python3"
  },
  "language_info": {
   "codemirror_mode": {
    "name": "ipython",
    "version": 3
   },
   "file_extension": ".py",
   "mimetype": "text/x-python",
   "name": "python",
   "nbconvert_exporter": "python",
   "pygments_lexer": "ipython3",
   "version": "3.8.8"
  }
 },
 "nbformat": 4,
 "nbformat_minor": 5
}
