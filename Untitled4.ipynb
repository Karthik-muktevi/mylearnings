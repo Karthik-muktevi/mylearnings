{
 "cells": [
  {
   "cell_type": "code",
   "execution_count": 1,
   "id": "6253b259",
   "metadata": {},
   "outputs": [
    {
     "name": "stdout",
     "output_type": "stream",
     "text": [
      "2\n",
      "3\n",
      "8\n",
      "50 70 30 100 80 20 150 10\n",
      "60\n",
      "4\n",
      "6\n",
      "10 20 32 412 500 11\n",
      "73\n"
     ]
    }
   ],
   "source": [
    "import functools\n",
    "T= int(input())\n",
    "for i in range(T):\n",
    "    N = int(input())\n",
    "    G= int(input())\n",
    "    G1 = list(map(int,input().split()))\n",
    "    \n",
    "    g1 = sorted(G1)\n",
    "\n",
    "    sum = functools.reduce(lambda x,y: x+y, g1[:N])\n",
    "    print(sum)"
   ]
  },
  {
   "cell_type": "code",
   "execution_count": 3,
   "id": "c67d7cab",
   "metadata": {},
   "outputs": [],
   "source": [
    "import datetime"
   ]
  },
  {
   "cell_type": "code",
   "execution_count": 5,
   "id": "877b8305",
   "metadata": {},
   "outputs": [
    {
     "name": "stdout",
     "output_type": "stream",
     "text": [
      "22 50\n",
      "2 20\n",
      "01 10\n"
     ]
    }
   ],
   "source": [
    "a = datetime.datetime.strptime(input(),'%H %M')\n",
    "\n",
    "b = datetime.datetime.strptime(input(),'%H %M')\n",
    "\n",
    "c= datetime.datetime.strptime('00 00','%H %M')\n",
    "d =(a-c+b).time()\n",
    "\n",
    "print(d.strftime('%H %M'))"
   ]
  },
  {
   "cell_type": "code",
   "execution_count": null,
   "id": "f3a0d5c4",
   "metadata": {},
   "outputs": [],
   "source": []
  }
 ],
 "metadata": {
  "kernelspec": {
   "display_name": "Python 3",
   "language": "python",
   "name": "python3"
  },
  "language_info": {
   "codemirror_mode": {
    "name": "ipython",
    "version": 3
   },
   "file_extension": ".py",
   "mimetype": "text/x-python",
   "name": "python",
   "nbconvert_exporter": "python",
   "pygments_lexer": "ipython3",
   "version": "3.8.8"
  }
 },
 "nbformat": 4,
 "nbformat_minor": 5
}
