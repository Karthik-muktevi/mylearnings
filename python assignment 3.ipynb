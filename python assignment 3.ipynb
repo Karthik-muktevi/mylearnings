{
 "cells": [
  {
   "cell_type": "code",
   "execution_count": 31,
   "id": "5efe3149",
   "metadata": {},
   "outputs": [],
   "source": [
    "def my_reduce(function,iterable,initializer=None):\n",
    "    iterable_ = iter(iterable)\n",
    "    if initializer is None:\n",
    "        value = next(iterable_)\n",
    "    else:\n",
    "        value = initializer\n",
    "    for i in iterable_:\n",
    "        value = function(value,i)\n",
    "\n",
    "    return value"
   ]
  },
  {
   "cell_type": "code",
   "execution_count": 32,
   "id": "f4ed549a",
   "metadata": {},
   "outputs": [
    {
     "data": {
      "text/plain": [
       "28"
      ]
     },
     "execution_count": 32,
     "metadata": {},
     "output_type": "execute_result"
    }
   ],
   "source": [
    "my_reduce(lambda a,b:a+b,[1,2,3,4,5,6,7])"
   ]
  },
  {
   "cell_type": "code",
   "execution_count": 33,
   "id": "b95fbeca",
   "metadata": {},
   "outputs": [
    {
     "data": {
      "text/plain": [
       "60"
      ]
     },
     "execution_count": 33,
     "metadata": {},
     "output_type": "execute_result"
    }
   ],
   "source": [
    "my_reduce(lambda a,b:a+b,[1,2,3,4],50)"
   ]
  },
  {
   "cell_type": "code",
   "execution_count": 40,
   "id": "798f0297",
   "metadata": {},
   "outputs": [],
   "source": [
    "def my_filter_even(n):\n",
    "    list =[]\n",
    "    for i in n:\n",
    "        if i%2==0:\n",
    "            list.append(i)\n",
    "    return list"
   ]
  },
  {
   "cell_type": "code",
   "execution_count": 41,
   "id": "32f4c5d7",
   "metadata": {},
   "outputs": [
    {
     "data": {
      "text/plain": [
       "[2, 4, 56, 78, 88]"
      ]
     },
     "execution_count": 41,
     "metadata": {},
     "output_type": "execute_result"
    }
   ],
   "source": [
    "my_filter_even([1,2,3,4,5,56,78,88])"
   ]
  },
  {
   "cell_type": "code",
   "execution_count": 1,
   "id": "83c84e43",
   "metadata": {},
   "outputs": [
    {
     "data": {
      "text/plain": [
       "['x', 'xx', 'xxx', 'xxxx', 'y', 'yy', 'yyy', 'yyyy', 'z', 'zz', 'zzz', 'zzzz']"
      ]
     },
     "execution_count": 1,
     "metadata": {},
     "output_type": "execute_result"
    }
   ],
   "source": [
    "x= [[i,i*2,i*3,i*4] for i in 'xyz']\n",
    "[j for i in x for j in i]"
   ]
  },
  {
   "cell_type": "code",
   "execution_count": 2,
   "id": "261e88f8",
   "metadata": {},
   "outputs": [
    {
     "data": {
      "text/plain": [
       "['x', 'y', 'z', 'xx', 'yy', 'zz', 'xxx', 'yyy', 'zzz', 'xxxx', 'yyyy', 'zzzz']"
      ]
     },
     "execution_count": 2,
     "metadata": {},
     "output_type": "execute_result"
    }
   ],
   "source": [
    "q=[]\n",
    "[q.append(i) for i in 'xyz']\n",
    "[q.append(i*2) for i in 'xyz']\n",
    "[q.append(i*3) for i in 'xyz']\n",
    "[q.append(i*4) for i in 'xyz']\n",
    "q"
   ]
  },
  {
   "cell_type": "code",
   "execution_count": 6,
   "id": "f83ba201",
   "metadata": {},
   "outputs": [
    {
     "data": {
      "text/plain": [
       "[[2], [3], [4], [3], [4], [5], [4], [5], [6]]"
      ]
     },
     "execution_count": 6,
     "metadata": {},
     "output_type": "execute_result"
    }
   ],
   "source": [
    "x =[[[i],[i+1],[i+2]] for i in range(2,5)]\n",
    "[j for i in x for j in i ]"
   ]
  },
  {
   "cell_type": "code",
   "execution_count": 7,
   "id": "45084781",
   "metadata": {},
   "outputs": [
    {
     "data": {
      "text/plain": [
       "[[2, 3, 4, 5], [3, 4, 5, 6], [4, 5, 6, 7], [5, 6, 7, 8]]"
      ]
     },
     "execution_count": 7,
     "metadata": {},
     "output_type": "execute_result"
    }
   ],
   "source": [
    "\n",
    "[[i,i+1,i+2,i+3] for i in range(2,6)]"
   ]
  },
  {
   "cell_type": "code",
   "execution_count": 8,
   "id": "9ca6b695",
   "metadata": {},
   "outputs": [
    {
     "data": {
      "text/plain": [
       "[(1, 1), (2, 1), (3, 1), (1, 2), (2, 2), (3, 2), (1, 3), (2, 3), (3, 3)]"
      ]
     },
     "execution_count": 8,
     "metadata": {},
     "output_type": "execute_result"
    }
   ],
   "source": [
    "[(j,i) for i in range(1,4) for j in range(1,4)]"
   ]
  },
  {
   "cell_type": "code",
   "execution_count": null,
   "id": "3587fe97",
   "metadata": {},
   "outputs": [],
   "source": []
  }
 ],
 "metadata": {
  "kernelspec": {
   "display_name": "Python 3",
   "language": "python",
   "name": "python3"
  },
  "language_info": {
   "codemirror_mode": {
    "name": "ipython",
    "version": 3
   },
   "file_extension": ".py",
   "mimetype": "text/x-python",
   "name": "python",
   "nbconvert_exporter": "python",
   "pygments_lexer": "ipython3",
   "version": "3.8.8"
  }
 },
 "nbformat": 4,
 "nbformat_minor": 5
}
