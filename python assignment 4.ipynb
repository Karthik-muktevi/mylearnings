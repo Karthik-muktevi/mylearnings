{
 "cells": [
  {
   "cell_type": "code",
   "execution_count": 75,
   "id": "8cd127ec",
   "metadata": {},
   "outputs": [],
   "source": [
    "###1.1"
   ]
  },
  {
   "cell_type": "code",
   "execution_count": 1,
   "id": "21560f3b",
   "metadata": {},
   "outputs": [],
   "source": [
    "class area:\n",
    "    def __init__(self,a,b,c):\n",
    "        self.a=a\n",
    "        self.b=b\n",
    "        self.c=c"
   ]
  },
  {
   "cell_type": "code",
   "execution_count": 28,
   "id": "18b81506",
   "metadata": {},
   "outputs": [],
   "source": [
    "class triangle(area):\n",
    "    def __init__(self,*args):\n",
    "        super(triangle,self).__init__(*args)\n",
    "    def area_triangle(self):\n",
    "        s = ((self.a+self.b+self.c)/2)\n",
    "        return (s*(s-self.a)*(s-self.b)*(s-self.c)) ** 0.5"
   ]
  },
  {
   "cell_type": "code",
   "execution_count": 29,
   "id": "5b452c1b",
   "metadata": {},
   "outputs": [],
   "source": [
    "x = area(10,20,20)"
   ]
  },
  {
   "cell_type": "code",
   "execution_count": 30,
   "id": "d95c84d5",
   "metadata": {},
   "outputs": [],
   "source": [
    "y = triangle(10,20,20)"
   ]
  },
  {
   "cell_type": "code",
   "execution_count": 32,
   "id": "5a4ccf0e",
   "metadata": {},
   "outputs": [
    {
     "data": {
      "text/plain": [
       "96.82458365518542"
      ]
     },
     "execution_count": 32,
     "metadata": {},
     "output_type": "execute_result"
    }
   ],
   "source": [
    "y.area_triangle()"
   ]
  },
  {
   "cell_type": "code",
   "execution_count": 76,
   "id": "99097a88",
   "metadata": {},
   "outputs": [],
   "source": [
    "##1.2"
   ]
  },
  {
   "cell_type": "code",
   "execution_count": 67,
   "id": "58a15475",
   "metadata": {},
   "outputs": [],
   "source": [
    "l=[]\n",
    "def filter_long_words(list,n):\n",
    "    for i in list:\n",
    "        for j in i.split():\n",
    "            if len(j)>n:\n",
    "                l.append(i)\n",
    "    return l"
   ]
  },
  {
   "cell_type": "code",
   "execution_count": 68,
   "id": "7b5a09ba",
   "metadata": {},
   "outputs": [
    {
     "data": {
      "text/plain": [
       "['abcdpq', 'abcdpqrs']"
      ]
     },
     "execution_count": 68,
     "metadata": {},
     "output_type": "execute_result"
    }
   ],
   "source": [
    "filter_long_words(['abcd','abcdp','abcdpq','abcdpqrs'],5)"
   ]
  },
  {
   "cell_type": "code",
   "execution_count": 77,
   "id": "0806dec9",
   "metadata": {},
   "outputs": [],
   "source": [
    "##2.1"
   ]
  },
  {
   "cell_type": "code",
   "execution_count": 69,
   "id": "bda829be",
   "metadata": {},
   "outputs": [],
   "source": [
    "a=[]\n",
    "def map(list):\n",
    "    for i in list:\n",
    "        for j in i.split():\n",
    "            a.append(len(j))\n",
    "    return a"
   ]
  },
  {
   "cell_type": "code",
   "execution_count": 70,
   "id": "371845a7",
   "metadata": {},
   "outputs": [
    {
     "data": {
      "text/plain": [
       "[3, 6, 6]"
      ]
     },
     "execution_count": 70,
     "metadata": {},
     "output_type": "execute_result"
    }
   ],
   "source": [
    "map(['abc','abdjad','fmkada'])"
   ]
  },
  {
   "cell_type": "code",
   "execution_count": 78,
   "id": "05307886",
   "metadata": {},
   "outputs": [],
   "source": [
    "##2.2"
   ]
  },
  {
   "cell_type": "code",
   "execution_count": 71,
   "id": "d891bb6d",
   "metadata": {},
   "outputs": [],
   "source": [
    "def vowels(string):\n",
    "    for i in string:\n",
    "        if i in 'aeiouAEIOU':\n",
    "            return True\n",
    "        else:\n",
    "            return False"
   ]
  },
  {
   "cell_type": "code",
   "execution_count": 72,
   "id": "93df99f6",
   "metadata": {},
   "outputs": [
    {
     "data": {
      "text/plain": [
       "True"
      ]
     },
     "execution_count": 72,
     "metadata": {},
     "output_type": "execute_result"
    }
   ],
   "source": [
    "vowels('E')"
   ]
  },
  {
   "cell_type": "code",
   "execution_count": 73,
   "id": "00f0e991",
   "metadata": {},
   "outputs": [
    {
     "data": {
      "text/plain": [
       "False"
      ]
     },
     "execution_count": 73,
     "metadata": {},
     "output_type": "execute_result"
    }
   ],
   "source": [
    "vowels('b')"
   ]
  },
  {
   "cell_type": "code",
   "execution_count": 74,
   "id": "37c2868c",
   "metadata": {},
   "outputs": [
    {
     "data": {
      "text/plain": [
       "True"
      ]
     },
     "execution_count": 74,
     "metadata": {},
     "output_type": "execute_result"
    }
   ],
   "source": [
    "vowels('i')"
   ]
  },
  {
   "cell_type": "code",
   "execution_count": null,
   "id": "48d7767d",
   "metadata": {},
   "outputs": [],
   "source": []
  }
 ],
 "metadata": {
  "kernelspec": {
   "display_name": "Python 3",
   "language": "python",
   "name": "python3"
  },
  "language_info": {
   "codemirror_mode": {
    "name": "ipython",
    "version": 3
   },
   "file_extension": ".py",
   "mimetype": "text/x-python",
   "name": "python",
   "nbconvert_exporter": "python",
   "pygments_lexer": "ipython3",
   "version": "3.8.8"
  }
 },
 "nbformat": 4,
 "nbformat_minor": 5
}
